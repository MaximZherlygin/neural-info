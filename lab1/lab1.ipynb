{
 "cells": [
  {
   "cell_type": "markdown",
   "metadata": {},
   "source": [
    "# Лабораторная работа №1\n",
    "## Жерлыгин М.А.\n",
    "## 80-408Б"
   ]
  },
  {
   "cell_type": "code",
   "execution_count": 1,
   "metadata": {},
   "outputs": [],
   "source": [
    "import numpy as np\n",
    "import matplotlib.pyplot as plt\n",
    "import pandas as pd\n",
    "\n",
    "from pylab import rcParams\n",
    "area = (-5, 5)\n",
    "colors = {(0,) : 'r', (1,) : 'y', (0, 0) : 'r', (0, 1) : 'g', (1, 0) : 'b', (1, 1) : 'y'}"
   ]
  },
  {
   "cell_type": "code",
   "execution_count": 2,
   "metadata": {},
   "outputs": [],
   "source": [
    "def get_data(filename):\n",
    "    with open(filename) as f:\n",
    "        num_of_input = int(f.readline())\n",
    "        num_of_output = int(f.readline())\n",
    "        tmp = np.array([[float(num) for num in line.split(' ')] for line in f])\n",
    "        columns = [f'X{i+1}' for i in range(num_of_input)] + [f'Y{i+1}' for i in range(num_of_output)]\n",
    "        df = pd.DataFrame(tmp.T, columns=columns)\n",
    "        df.insert(0, 'X0', [1] * df.shape[0])\n",
    "    return df"
   ]
  },
  {
   "cell_type": "code",
   "execution_count": 3,
   "metadata": {},
   "outputs": [],
   "source": [
    "def dividing_line_func(coef):\n",
    "    return lambda x: (-coef[0] - coef[1] * x) / coef[2]"
   ]
  },
  {
   "cell_type": "code",
   "execution_count": 4,
   "metadata": {},
   "outputs": [],
   "source": [
    "def plot_df1(df):\n",
    "    plt.grid(True)\n",
    "    plt.plot(df[df['Y1'] == 0]['X1'], df[df['Y1'] == 0]['X2'], 'o', c=colors[(0,)])\n",
    "    plt.plot(df[df['Y1'] == 1]['X1'], df[df['Y1'] == 1]['X2'], 'o', c=colors[(1,)])"
   ]
  },
  {
   "cell_type": "code",
   "execution_count": 5,
   "metadata": {},
   "outputs": [],
   "source": [
    "def plot_df2(df2):\n",
    "    plt.grid(True)\n",
    "    f = lambda x, y: df2[(df2['Y1'] == x) & (df2['Y2'] == y)][['X1', 'X2']]\n",
    "    plt.plot(f(0, 0)['X1'], f(0, 0)['X2'], 'o', c=colors[(0, 0)])\n",
    "    plt.plot(f(0, 1)['X1'], f(0, 1)['X2'], 'o', c=colors[(0, 1)])\n",
    "    plt.plot(f(1, 0)['X1'], f(1, 0)['X2'], 'o', c=colors[(1, 0)])\n",
    "    plt.plot(f(1, 1)['X1'], f(1, 1)['X2'], 'o', c=colors[(1, 1)])"
   ]
  },
  {
   "cell_type": "code",
   "execution_count": 6,
   "metadata": {},
   "outputs": [],
   "source": [
    "def out(x):\n",
    "    return np.array([1 if i >= 0 else 0 for i in x])"
   ]
  },
  {
   "cell_type": "code",
   "execution_count": 7,
   "metadata": {},
   "outputs": [],
   "source": [
    "def train(df, n_input, n_neurouns, eta=0.3, log_file=None, max_iter=1e6):\n",
    "    if log_file is not None:\n",
    "        f = open(log_file, 'w')\n",
    "    x = df.iloc[:, :n_input]\n",
    "    y = df.iloc[:, n_input:]\n",
    "    w = np.random.uniform(-2, 2, (n_input, n_neurouns))\n",
    "    idx = 0\n",
    "    k_iter = 0\n",
    "    while True:\n",
    "        if log_file is not None:\n",
    "            f.write(f'Step {idx}:\\nIter {k_iter}\\n{w}\\n')\n",
    "        if idx == df.shape[0] or k_iter == max_iter:\n",
    "            break\n",
    "        tmp = x.iloc[idx] @ w\n",
    "        res = out(tmp)\n",
    "        if all(res == y.iloc[idx]):\n",
    "            idx += 1\n",
    "        else:\n",
    "            err = y.iloc[idx] - res\n",
    "            if log_file is not None:\n",
    "                f.write(f'Err:\\n{err}\\n')\n",
    "                f.write(f'X:\\n{x.iloc[idx]}\\n')\n",
    "                f.write(f'Y:\\n{y.iloc[idx]}\\n')\n",
    "                f.write(f'Out\\n{res}\\n')\n",
    "            w += np.array([[eta * i * j for j in err] for i in x.iloc[idx]])\n",
    "            idx = 0\n",
    "        k_iter += 1\n",
    "    if log_file is not None:\n",
    "        f.close()\n",
    "    return w"
   ]
  },
  {
   "cell_type": "code",
   "execution_count": 8,
   "metadata": {},
   "outputs": [],
   "source": [
    "def predict(x, w):\n",
    "    return out(x @ w)"
   ]
  },
  {
   "cell_type": "markdown",
   "metadata": {},
   "source": [
    "## Датасет 1"
   ]
  },
  {
   "cell_type": "code",
   "execution_count": 24,
   "metadata": {},
   "outputs": [
    {
     "data": {
      "text/plain": "   X0   X1   X2   Y1\n0   1 -3.8  0.4  1.0\n1   1 -0.2  3.9  1.0\n2   1  2.9  2.3  0.0\n3   1 -4.5 -4.3  0.0\n4   1 -4.2  2.9  1.0\n5   1  4.4  1.8  0.0",
      "text/html": "<div>\n<style scoped>\n    .dataframe tbody tr th:only-of-type {\n        vertical-align: middle;\n    }\n\n    .dataframe tbody tr th {\n        vertical-align: top;\n    }\n\n    .dataframe thead th {\n        text-align: right;\n    }\n</style>\n<table border=\"1\" class=\"dataframe\">\n  <thead>\n    <tr style=\"text-align: right;\">\n      <th></th>\n      <th>X0</th>\n      <th>X1</th>\n      <th>X2</th>\n      <th>Y1</th>\n    </tr>\n  </thead>\n  <tbody>\n    <tr>\n      <th>0</th>\n      <td>1</td>\n      <td>-3.8</td>\n      <td>0.4</td>\n      <td>1.0</td>\n    </tr>\n    <tr>\n      <th>1</th>\n      <td>1</td>\n      <td>-0.2</td>\n      <td>3.9</td>\n      <td>1.0</td>\n    </tr>\n    <tr>\n      <th>2</th>\n      <td>1</td>\n      <td>2.9</td>\n      <td>2.3</td>\n      <td>0.0</td>\n    </tr>\n    <tr>\n      <th>3</th>\n      <td>1</td>\n      <td>-4.5</td>\n      <td>-4.3</td>\n      <td>0.0</td>\n    </tr>\n    <tr>\n      <th>4</th>\n      <td>1</td>\n      <td>-4.2</td>\n      <td>2.9</td>\n      <td>1.0</td>\n    </tr>\n    <tr>\n      <th>5</th>\n      <td>1</td>\n      <td>4.4</td>\n      <td>1.8</td>\n      <td>0.0</td>\n    </tr>\n  </tbody>\n</table>\n</div>"
     },
     "metadata": {},
     "output_type": "display_data"
    },
    {
     "data": {
      "text/plain": "<Figure size 432x288 with 1 Axes>",
      "image/png": "[encoded data removed]"
     },
     "metadata": {
      "needs_background": "light"
     },
     "output_type": "display_data"
    }
   ],
   "source": [
    "df = get_data('test1.txt')\n",
    "display(df)\n",
    "plot_df1(df)"
   ]
  },
  {
   "cell_type": "markdown",
   "metadata": {},
   "source": [
    "## Датасет 2"
   ]
  },
  {
   "cell_type": "code",
   "execution_count": 10,
   "metadata": {},
   "outputs": [
    {
     "data": {
      "text/plain": "   X0   X1   X2   Y1   Y2\n0   1 -0.6  4.0  1.0  1.0\n1   1 -4.7  0.3  1.0  1.0\n2   1  2.1 -3.3  0.0  0.0\n3   1 -1.7 -3.2  0.0  0.0\n4   1 -1.8 -1.0  0.0  1.0\n5   1  0.4 -4.6  0.0  0.0\n6   1  0.5 -2.3  0.0  0.0\n7   1 -2.6 -2.6  0.0  0.0",
      "text/html": "<div>\n<style scoped>\n    .dataframe tbody tr th:only-of-type {\n        vertical-align: middle;\n    }\n\n    .dataframe tbody tr th {\n        vertical-align: top;\n    }\n\n    .dataframe thead th {\n        text-align: right;\n    }\n</style>\n<table border=\"1\" class=\"dataframe\">\n  <thead>\n    <tr style=\"text-align: right;\">\n      <th></th>\n      <th>X0</th>\n      <th>X1</th>\n      <th>X2</th>\n      <th>Y1</th>\n      <th>Y2</th>\n    </tr>\n  </thead>\n  <tbody>\n    <tr>\n      <th>0</th>\n      <td>1</td>\n      <td>-0.6</td>\n      <td>4.0</td>\n      <td>1.0</td>\n      <td>1.0</td>\n    </tr>\n    <tr>\n      <th>1</th>\n      <td>1</td>\n      <td>-4.7</td>\n      <td>0.3</td>\n      <td>1.0</td>\n      <td>1.0</td>\n    </tr>\n    <tr>\n      <th>2</th>\n      <td>1</td>\n      <td>2.1</td>\n      <td>-3.3</td>\n      <td>0.0</td>\n      <td>0.0</td>\n    </tr>\n    <tr>\n      <th>3</th>\n      <td>1</td>\n      <td>-1.7</td>\n      <td>-3.2</td>\n      <td>0.0</td>\n      <td>0.0</td>\n    </tr>\n    <tr>\n      <th>4</th>\n      <td>1</td>\n      <td>-1.8</td>\n      <td>-1.0</td>\n      <td>0.0</td>\n      <td>1.0</td>\n    </tr>\n    <tr>\n      <th>5</th>\n      <td>1</td>\n      <td>0.4</td>\n      <td>-4.6</td>\n      <td>0.0</td>\n      <td>0.0</td>\n    </tr>\n    <tr>\n      <th>6</th>\n      <td>1</td>\n      <td>0.5</td>\n      <td>-2.3</td>\n      <td>0.0</td>\n      <td>0.0</td>\n    </tr>\n    <tr>\n      <th>7</th>\n      <td>1</td>\n      <td>-2.6</td>\n      <td>-2.6</td>\n      <td>0.0</td>\n      <td>0.0</td>\n    </tr>\n  </tbody>\n</table>\n</div>"
     },
     "metadata": {},
     "output_type": "display_data"
    },
    {
     "data": {
      "text/plain": "<Figure size 432x288 with 1 Axes>",
      "image/png": "[encoded data removed]"
     },
     "metadata": {
      "needs_background": "light"
     },
     "output_type": "display_data"
    }
   ],
   "source": [
    "df2 = get_data('test2.txt')\n",
    "display(df2)\n",
    "plot_df2(df2)"
   ]
  },
  {
   "cell_type": "code",
   "execution_count": 11,
   "metadata": {},
   "outputs": [],
   "source": [
    "rand_points = np.random.uniform(-5, 5, (5, 2))\n",
    "ones = np.ones((5, 3))\n",
    "ones[:, 1:] = rand_points\n",
    "rand_points = ones"
   ]
  },
  {
   "cell_type": "code",
   "execution_count": 12,
   "metadata": {},
   "outputs": [],
   "source": [
    "w1 = train(df, 3, 1, eta=0.3, log_file='df1.txt', max_iter=50)"
   ]
  },
  {
   "cell_type": "code",
   "execution_count": 13,
   "metadata": {},
   "outputs": [],
   "source": [
    "pred = [tuple(predict(line, w1)) for line in rand_points]"
   ]
  },
  {
   "cell_type": "code",
   "execution_count": 14,
   "metadata": {},
   "outputs": [
    {
     "data": {
      "text/plain": "<Figure size 432x288 with 1 Axes>",
      "image/png": "[encoded data removed]"
     },
     "metadata": {
      "needs_background": "light"
     },
     "output_type": "display_data"
    }
   ],
   "source": [
    "plot_df1(df)\n",
    "tmp_f = dividing_line_func(w1)\n",
    "plt.plot(area, [tmp_f(i) for i in area], c='black')\n",
    "for x, y, c in zip(rand_points[:, 1], rand_points[:, 2], pred):\n",
    "    plt.plot(x, y, '*', c=colors[c])"
   ]
  },
  {
   "cell_type": "code",
   "execution_count": 15,
   "metadata": {},
   "outputs": [],
   "source": [
    "w2 = train(df2, 3, 2, eta=0.3, log_file='df2.txt', max_iter=50)"
   ]
  },
  {
   "cell_type": "code",
   "execution_count": 16,
   "metadata": {},
   "outputs": [],
   "source": [
    "pred = [tuple(predict(line, w2)) for line in rand_points]"
   ]
  },
  {
   "cell_type": "code",
   "execution_count": 17,
   "metadata": {
    "scrolled": false
   },
   "outputs": [
    {
     "data": {
      "text/plain": "<Figure size 432x288 with 1 Axes>",
      "image/png": "[encoded data removed]"
     },
     "metadata": {
      "needs_background": "light"
     },
     "output_type": "display_data"
    }
   ],
   "source": [
    "plot_df2(df2)\n",
    "tmp_f = dividing_line_func(w2[:, 0])\n",
    "plt.plot(area, [tmp_f(i) for i in area], c='black')\n",
    "tmp_f = dividing_line_func(w2[:, 1])\n",
    "plt.plot(area, [tmp_f(i) for i in area], c='black')\n",
    "\n",
    "for x, y, c in zip(rand_points[:, 1], rand_points[:, 2], pred):\n",
    "    plt.plot(x, y, '*', c=colors[c])"
   ]
  },
  {
   "cell_type": "markdown",
   "metadata": {},
   "source": [
    "## Линейная неразделимость для первой выборки"
   ]
  },
  {
   "cell_type": "code",
   "execution_count": 18,
   "metadata": {},
   "outputs": [],
   "source": [
    "df.loc[6] = [0, -2, 1, 0]"
   ]
  },
  {
   "cell_type": "code",
   "execution_count": 19,
   "metadata": {},
   "outputs": [],
   "source": [
    "w1 = train(df, 3, 1, eta=0.3, log_file='df1_insep.txt', max_iter=50)"
   ]
  },
  {
   "cell_type": "code",
   "execution_count": 20,
   "metadata": {},
   "outputs": [],
   "source": [
    "pred = [tuple(predict(line, w1)) for line in rand_points]"
   ]
  },
  {
   "cell_type": "code",
   "execution_count": 22,
   "metadata": {
    "pycharm": {
     "name": "#%%\n"
    }
   },
   "outputs": [
    {
     "data": {
      "text/plain": "   X0   X1   X2   Y1\n0   1 -3.8  0.4  1.0\n1   1 -0.2  3.9  1.0\n2   1  2.9  2.3  0.0\n3   1 -4.5 -4.3  0.0\n4   1 -4.2  2.9  1.0\n5   1  4.4  1.8  0.0\n6   0 -2.0  1.0  0.0",
      "text/html": "<div>\n<style scoped>\n    .dataframe tbody tr th:only-of-type {\n        vertical-align: middle;\n    }\n\n    .dataframe tbody tr th {\n        vertical-align: top;\n    }\n\n    .dataframe thead th {\n        text-align: right;\n    }\n</style>\n<table border=\"1\" class=\"dataframe\">\n  <thead>\n    <tr style=\"text-align: right;\">\n      <th></th>\n      <th>X0</th>\n      <th>X1</th>\n      <th>X2</th>\n      <th>Y1</th>\n    </tr>\n  </thead>\n  <tbody>\n    <tr>\n      <th>0</th>\n      <td>1</td>\n      <td>-3.8</td>\n      <td>0.4</td>\n      <td>1.0</td>\n    </tr>\n    <tr>\n      <th>1</th>\n      <td>1</td>\n      <td>-0.2</td>\n      <td>3.9</td>\n      <td>1.0</td>\n    </tr>\n    <tr>\n      <th>2</th>\n      <td>1</td>\n      <td>2.9</td>\n      <td>2.3</td>\n      <td>0.0</td>\n    </tr>\n    <tr>\n      <th>3</th>\n      <td>1</td>\n      <td>-4.5</td>\n      <td>-4.3</td>\n      <td>0.0</td>\n    </tr>\n    <tr>\n      <th>4</th>\n      <td>1</td>\n      <td>-4.2</td>\n      <td>2.9</td>\n      <td>1.0</td>\n    </tr>\n    <tr>\n      <th>5</th>\n      <td>1</td>\n      <td>4.4</td>\n      <td>1.8</td>\n      <td>0.0</td>\n    </tr>\n    <tr>\n      <th>6</th>\n      <td>0</td>\n      <td>-2.0</td>\n      <td>1.0</td>\n      <td>0.0</td>\n    </tr>\n  </tbody>\n</table>\n</div>"
     },
     "metadata": {},
     "output_type": "display_data"
    },
    {
     "data": {
      "text/plain": "<Figure size 432x288 with 1 Axes>",
      "image/png": "[encoded data removed]"
     },
     "metadata": {
      "needs_background": "light"
     },
     "output_type": "display_data"
    }
   ],
   "source": [
    "display(df)\n",
    "plot_df1(df)\n",
    "tmp_f = dividing_line_func(w1)\n",
    "plt.plot(area, [tmp_f(i) for i in area], c='black')\n",
    "\n",
    "for x, y, c in zip(rand_points[:, 1], rand_points[:, 2], pred):\n",
    "    plt.plot(x, y, '*', c=colors[c])"
   ]
  }
 ],
 "metadata": {
  "kernelspec": {
   "display_name": "Python 3",
   "language": "python",
   "name": "python3"
  },
  "language_info": {
   "codemirror_mode": {
    "name": "ipython",
    "version": 3
   },
   "file_extension": ".py",
   "mimetype": "text/x-python",
   "name": "python",
   "nbconvert_exporter": "python",
   "pygments_lexer": "ipython3",
   "version": "3.6.6"
  }
 },
 "nbformat": 4,
 "nbformat_minor": 2
}